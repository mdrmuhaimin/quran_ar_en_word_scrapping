{
 "cells": [
  {
   "cell_type": "code",
   "execution_count": 1,
   "id": "b6e19a04",
   "metadata": {},
   "outputs": [],
   "source": [
    "import orjson\n",
    "import asyncio\n",
    "import httpx\n",
    "import pandas as pd"
   ]
  },
  {
   "cell_type": "code",
   "execution_count": 2,
   "id": "a61811fa",
   "metadata": {},
   "outputs": [],
   "source": [
    "arb_urls = [f\"https://data.quranwbw.com/{surah_num}/word-translations/arabic.json\" for surah_num in range(1, 115)]\n",
    "eng_urls = [f\"https://data.quranwbw.com/{surah_num}/word-translations/english.json\" for surah_num in range(1, 115)]\n",
    "bn_urls = [f\"https://data.quranwbw.com/{surah_num}/word-translations/bangla.json\" for surah_num in range(1, 115)]\n"
   ]
  },
  {
   "cell_type": "code",
   "execution_count": 3,
   "id": "ccbcaf5a",
   "metadata": {},
   "outputs": [],
   "source": [
    "async def fetch(url):\n",
    "    async with httpx.AsyncClient() as client:\n",
    "        response = await client.get(url)\n",
    "        return orjson.loads(response.text)\n",
    "\n"
   ]
  },
  {
   "cell_type": "code",
   "execution_count": 4,
   "id": "b1140791",
   "metadata": {},
   "outputs": [],
   "source": [
    "fetch_arb_tasks = [asyncio.create_task(fetch(url)) for url in arb_urls]\n",
    "fetch_eng_tasks = [asyncio.create_task(fetch(url)) for url in eng_urls]\n",
    "fetch_bn_tasks = [asyncio.create_task(fetch(url)) for url in bn_urls]\n",
    "arb_res = await asyncio.gather(*fetch_arb_tasks)\n",
    "eng_res = await asyncio.gather(*fetch_eng_tasks)\n",
    "bn_res = await asyncio.gather(*fetch_bn_tasks)\n",
    "\n"
   ]
  },
  {
   "cell_type": "code",
   "execution_count": 5,
   "id": "7fd4b020",
   "metadata": {},
   "outputs": [],
   "source": [
    "# words_by_surahs = []\n",
    "# for idx in range(len(arb_res)):\n",
    "#     if idx == 113:\n",
    "#         print(arb_res[idx])\n",
    "#     for ayah in arb_res[idx].keys():\n",
    "#         all_words = arb_res[idx][ayah]['w'].split(\"|\")\n",
    "# #         eng_trans = eng_res[idx].split(\"//\")\n",
    "#         words = [\n",
    "#             {\n",
    "#                 \"page\": arb_res[idx][ayah]['p'],\n",
    "#                 \"ayah\": ayah,\n",
    "#                 \"word\": word.split('/')[1],\n",
    "#                 \"surah\": idx + 1 \n",
    "#             } for word in all_words]\n",
    "#         words_by_surahs.extend(words)\n",
    "#         if idx == 113:\n",
    "#             print(words)\n",
    "    "
   ]
  },
  {
   "cell_type": "code",
   "execution_count": 6,
   "id": "9733ba48",
   "metadata": {},
   "outputs": [
    {
     "data": {
      "text/plain": [
       "({'1': {'p': 1,\n",
       "   'w': \"بِسْمِ/بِسۡمِ/./bis'mi|اللّٰهِ/ٱللَّهِ/./al-lahi|الرَّحْمٰنِ/ٱلرَّحۡمَٰنِ/./al-rahmani|الرَّحِیْمِ/ٱلرَّحِيمِ/./al-rahimi\",\n",
       "   'e': '۟\\uf500/١/.'},\n",
       "  '2': {'p': 1,\n",
       "   'w': \"اَلْحَمْدُ/ٱلۡحَمۡدُ/./al-hamdu|لِلّٰهِ/لِلَّهِ/./lillahi|رَبِّ/رَبِّ/./rabbi|الْعٰلَمِیْنَ/ٱلۡعَٰلَمِينَ/./al-'alamina\",\n",
       "   'e': '۟ۙ\\uf501/٢/.'},\n",
       "  '3': {'p': 1,\n",
       "   'w': 'الرَّحْمٰنِ/ٱلرَّحۡمَٰنِ/./al-rahmani|الرَّحِیْمِ/ٱلرَّحِيمِ/./al-rahimi',\n",
       "   'e': '۟ۙ\\uf502/٣/.'},\n",
       "  '4': {'p': 1,\n",
       "   'w': 'مٰلِكِ/مَٰلِكِ/./maliki|یَوْمِ/يَوۡمِ/./yawmi|الدِّیْنِ/ٱلدِّينِ/./al-dini',\n",
       "   'e': '۟ؕ\\uf503/٤/.'},\n",
       "  '5': {'p': 1,\n",
       "   'w': \"اِیَّاكَ/إِيَّاكَ/./iyyaka|نَعْبُدُ/نَعۡبُدُ/./na'budu|وَاِیَّاكَ/وَإِيَّاكَ/./wa-iyyaka|نَسْتَعِیْنُ/نَسۡتَعِينُ/./nasta'inu\",\n",
       "   'e': '۟ؕ\\uf504/٥/.'},\n",
       "  '6': {'p': 1,\n",
       "   'w': \"اِهْدِنَا/ٱهۡدِنَا/./ih'dina|الصِّرَاطَ/ٱلصِّرَٰطَ/./al-sirata|الْمُسْتَقِیْمَ/ٱلۡمُسۡتَقِيمَ/./al-mus'taqima\",\n",
       "   'e': '۟ۙ\\uf505/٦/.'},\n",
       "  '7': {'p': 1,\n",
       "   'w': \"صِرَاطَ/صِرَٰطَ/./sirata|الَّذِیْنَ/ٱلَّذِينَ/./alladhina|اَنْعَمْتَ/أَنۡعَمۡتَ/./an'amta|عَلَیْهِمْ ۙ۬—/عَلَيۡهِمۡ/./alayhim|غَیْرِ/غَيۡرِ/./ghayri|الْمَغْضُوْبِ/ٱلۡمَغۡضُوبِ/./al-maghdubi|عَلَیْهِمْ/عَلَيۡهِمۡ/./alayhim|وَلَا/وَلَا/./wala|الضَّآلِّیْنَ/ٱلضَّآلِّينَ/./al-dalina\",\n",
       "   'e': '۟۠\\uf506/٧/.'}},\n",
       " {'1': {'en_w': 'In (the) name//(of) Allah//the Most Gracious//the Most Merciful'},\n",
       "  '2': {'en_w': 'All praises and thanks//(be) to Allah//the Lord//of the universe'},\n",
       "  '3': {'en_w': 'The Most Gracious//the Most Merciful'},\n",
       "  '4': {'en_w': '(The) Master//(of the) Day//(of the) Judgment'},\n",
       "  '5': {'en_w': 'You Alone//we worship//and You Alone//we ask for help'},\n",
       "  '6': {'en_w': 'Guide us//(to) the path//the straight'},\n",
       "  '7': {'en_w': '(The) path//(of) those//You have bestowed (Your) Favors//on them//not (of)//those who earned (Your) wrath//on themselves//and not//(of) those who go astray'}},\n",
       " {'1': {'bn_w': 'নামে//আল্লাহ (র)//পরম করুণাময়//অসীম দয়ালু'},\n",
       "  '2': {'bn_w': 'সকল প্রশংসা//আল্লাহ্\\u200cরই জন্য//(যিনি) রব//সারা জগতের'},\n",
       "  '3': {'bn_w': 'অশেষ করুণাময়//পরম দয়ালু'},\n",
       "  '4': {'bn_w': 'অধিপতি//দিনের//বিচারের'},\n",
       "  '5': {'bn_w': 'আপনারই শুধু//আমরা ইবাদত করি//এবং আপনারই (কাছে  শুধু)//আমরা সাহায্য চাই।'},\n",
       "  '6': {'bn_w': 'আমাদেরকে দেখান//পথ//সরল সঠিক'},\n",
       "  '7': {'bn_w': '(সেই) পথে//যাদেরকে//আপনি অনুগ্রহ দান করেছেন//তাদের উপর//নয় (পথ)//অভিশপ্তদের//যাদের উপর (গজব পরেছে)//এবং না//পথভ্রষ্টদের'}})"
      ]
     },
     "execution_count": 6,
     "metadata": {},
     "output_type": "execute_result"
    }
   ],
   "source": [
    "bn_words = [{ayah: {\"bn_w\": surah[ayah]} for ayah in surah.keys()} for surah in bn_res]\n",
    "en_words = [{ayah: {\"en_w\": surah[ayah]} for ayah in surah.keys()} for surah in eng_res]\n",
    "all_wrds = list(zip(arb_res, en_words, bn_words))\n",
    "all_wrds[0]"
   ]
  },
  {
   "cell_type": "code",
   "execution_count": 7,
   "id": "ee9b06a3",
   "metadata": {},
   "outputs": [],
   "source": [
    "combined_translations = []\n",
    "for arb_wrds, en, bn in zip(arb_res, en_words, bn_words):\n",
    "    for surah in arb_wrds.keys():\n",
    "        wrd_trans = arb_wrds[surah]\n",
    "        arb_wrds[surah].update(**en[surah], **bn[surah])\n",
    "    combined_translations.append(arb_wrds)\n",
    "combined_translations[0:7]"
   ]
  },
  {
   "cell_type": "code",
   "execution_count": 8,
   "id": "cedc50d0",
   "metadata": {},
   "outputs": [],
   "source": [
    "words_by_surahs = []\n",
    "for idx in range(len(combined_translations)):\n",
    "    for ayah in arb_res[idx].keys():\n",
    "        arb_words = arb_res[idx][ayah]['w'].split(\"|\")\n",
    "        en_words = arb_res[idx][ayah]['en_w'].split(\"//\")\n",
    "        bn_words = arb_res[idx][ayah]['bn_w'].split(\"//\")\n",
    "#         eng_trans = eng_res[idx].split(\"//\")\n",
    "        words = [\n",
    "            {\n",
    "                \"page\": arb_res[idx][ayah]['p'],\n",
    "                \"ayah\": ayah,\n",
    "                \"ar\": ar.split('/')[1],\n",
    "                \"en\": en,\n",
    "                \"bn\": bn,\n",
    "                \"surah\": idx + 1 \n",
    "            } for ar, en, bn in zip(arb_words, en_words, bn_words)]\n",
    "        words_by_surahs.extend(words)\n",
    "    "
   ]
  },
  {
   "cell_type": "code",
   "execution_count": 9,
   "id": "2e560fee",
   "metadata": {},
   "outputs": [
    {
     "data": {
      "text/plain": [
       "[{'page': 1,\n",
       "  'ayah': '1',\n",
       "  'ar': 'بِسۡمِ',\n",
       "  'en': 'In (the) name',\n",
       "  'bn': 'নামে',\n",
       "  'surah': 1},\n",
       " {'page': 1,\n",
       "  'ayah': '1',\n",
       "  'ar': 'ٱللَّهِ',\n",
       "  'en': '(of) Allah',\n",
       "  'bn': 'আল্লাহ (র)',\n",
       "  'surah': 1},\n",
       " {'page': 1,\n",
       "  'ayah': '1',\n",
       "  'ar': 'ٱلرَّحۡمَٰنِ',\n",
       "  'en': 'the Most Gracious',\n",
       "  'bn': 'পরম করুণাময়',\n",
       "  'surah': 1},\n",
       " {'page': 1,\n",
       "  'ayah': '1',\n",
       "  'ar': 'ٱلرَّحِيمِ',\n",
       "  'en': 'the Most Merciful',\n",
       "  'bn': 'অসীম দয়ালু',\n",
       "  'surah': 1},\n",
       " {'page': 1,\n",
       "  'ayah': '2',\n",
       "  'ar': 'ٱلۡحَمۡدُ',\n",
       "  'en': 'All praises and thanks',\n",
       "  'bn': 'সকল প্রশংসা',\n",
       "  'surah': 1},\n",
       " {'page': 1,\n",
       "  'ayah': '2',\n",
       "  'ar': 'لِلَّهِ',\n",
       "  'en': '(be) to Allah',\n",
       "  'bn': 'আল্লাহ্\\u200cরই জন্য',\n",
       "  'surah': 1},\n",
       " {'page': 1,\n",
       "  'ayah': '2',\n",
       "  'ar': 'رَبِّ',\n",
       "  'en': 'the Lord',\n",
       "  'bn': '(যিনি) রব',\n",
       "  'surah': 1}]"
      ]
     },
     "execution_count": 9,
     "metadata": {},
     "output_type": "execute_result"
    }
   ],
   "source": [
    "words_by_surahs[0:7]"
   ]
  },
  {
   "cell_type": "code",
   "execution_count": 10,
   "id": "728ad193",
   "metadata": {},
   "outputs": [],
   "source": [
    "finalized_transation = pd.json_normalize(words_by_surahs)"
   ]
  },
  {
   "cell_type": "code",
   "execution_count": 11,
   "id": "a2fb6e05",
   "metadata": {},
   "outputs": [],
   "source": [
    "finalized_transation.to_csv(\"quran_word_translation.tsv\", index=False, sep='\\t')"
   ]
  },
  {
   "cell_type": "code",
   "execution_count": null,
   "id": "996a0a1a",
   "metadata": {},
   "outputs": [],
   "source": []
  }
 ],
 "metadata": {
  "kernelspec": {
   "display_name": "Python 3 (ipykernel)",
   "language": "python",
   "name": "python3"
  },
  "language_info": {
   "codemirror_mode": {
    "name": "ipython",
    "version": 3
   },
   "file_extension": ".py",
   "mimetype": "text/x-python",
   "name": "python",
   "nbconvert_exporter": "python",
   "pygments_lexer": "ipython3",
   "version": "3.9.16"
  }
 },
 "nbformat": 4,
 "nbformat_minor": 5
}
